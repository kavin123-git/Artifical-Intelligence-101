{
  "nbformat": 4,
  "nbformat_minor": 0,
  "metadata": {
    "colab": {
      "provenance": [],
      "gpuType": "T4"
    },
    "kernelspec": {
      "name": "python3",
      "display_name": "Python 3"
    },
    "language_info": {
      "name": "python"
    },
    "accelerator": "GPU"
  },
  "cells": [
    {
      "cell_type": "code",
      "execution_count": null,
      "metadata": {
        "colab": {
          "base_uri": "https://localhost:8080/"
        },
        "id": "-wn-KetIM2mF",
        "outputId": "008c2a5d-b5cd-4d17-fad3-09be145072f2"
      },
      "outputs": [
        {
          "output_type": "stream",
          "name": "stdout",
          "text": [
            "Downloading https://www.cs.toronto.edu/~kriz/cifar-10-python.tar.gz to ./data/cifar-10-python.tar.gz\n"
          ]
        },
        {
          "output_type": "stream",
          "name": "stderr",
          "text": [
            "100%|██████████| 170M/170M [00:03<00:00, 48.2MB/s]\n"
          ]
        },
        {
          "output_type": "stream",
          "name": "stdout",
          "text": [
            "Extracting ./data/cifar-10-python.tar.gz to ./data\n",
            "Files already downloaded and verified\n",
            "Epoch [1/25], Loss: 1.3600, Accuracy: 51.43%\n",
            "Epoch [2/25], Loss: 0.9910, Accuracy: 65.29%\n",
            "Epoch [3/25], Loss: 0.8398, Accuracy: 70.67%\n",
            "Epoch [4/25], Loss: 0.7329, Accuracy: 74.24%\n",
            "Epoch [5/25], Loss: 0.6379, Accuracy: 77.69%\n",
            "Epoch [6/25], Loss: 0.5555, Accuracy: 80.68%\n",
            "Epoch [7/25], Loss: 0.4801, Accuracy: 83.20%\n",
            "Epoch [8/25], Loss: 0.4096, Accuracy: 85.64%\n",
            "Epoch [9/25], Loss: 0.3431, Accuracy: 88.01%\n",
            "Epoch [10/25], Loss: 0.2834, Accuracy: 90.09%\n",
            "Epoch [11/25], Loss: 0.2333, Accuracy: 91.83%\n",
            "Epoch [12/25], Loss: 0.1870, Accuracy: 93.55%\n",
            "Epoch [13/25], Loss: 0.1584, Accuracy: 94.54%\n",
            "Epoch [14/25], Loss: 0.1322, Accuracy: 95.52%\n",
            "Epoch [15/25], Loss: 0.1122, Accuracy: 96.11%\n",
            "Epoch [16/25], Loss: 0.1019, Accuracy: 96.36%\n",
            "Epoch [17/25], Loss: 0.0979, Accuracy: 96.57%\n",
            "Epoch [18/25], Loss: 0.0774, Accuracy: 97.31%\n",
            "Epoch [19/25], Loss: 0.0752, Accuracy: 97.37%\n",
            "Epoch [20/25], Loss: 0.0699, Accuracy: 97.57%\n",
            "Epoch [21/25], Loss: 0.0705, Accuracy: 97.46%\n",
            "Epoch [22/25], Loss: 0.0644, Accuracy: 97.78%\n",
            "Epoch [23/25], Loss: 0.0669, Accuracy: 97.59%\n",
            "Epoch [24/25], Loss: 0.0479, Accuracy: 98.33%\n",
            "Epoch [25/25], Loss: 0.0537, Accuracy: 98.17%\n",
            "Test Accuracy: 70.95%\n"
          ]
        }
      ],
      "source": [
        "# Import required libraries\n",
        "import torch\n",
        "import torch.nn as nn\n",
        "import torch.optim as optim\n",
        "import torchvision\n",
        "import torchvision.transforms as transforms\n",
        "from torch.utils.data import DataLoader\n",
        "\n",
        "# Step 1: Define transformations\n",
        "transform_train = transforms.Compose([\n",
        "    transforms.ToTensor(),\n",
        "    transforms.Normalize((0.5, 0.5, 0.5), (0.5, 0.5, 0.5))\n",
        "])\n",
        "\n",
        "transform_test = transforms.Compose([\n",
        "    transforms.ToTensor(),\n",
        "    transforms.Normalize((0.5, 0.5, 0.5), (0.5, 0.5, 0.5))\n",
        "])\n",
        "\n",
        "# Step 2: Load CIFAR-10 dataset\n",
        "train_dataset = torchvision.datasets.CIFAR10(root='./data', train=True, download=True, transform=transform_train)\n",
        "test_dataset = torchvision.datasets.CIFAR10(root='./data', train=False, download=True, transform=transform_test)\n",
        "\n",
        "# Step 3: Define DataLoaders\n",
        "batch_size = 64\n",
        "train_loader = DataLoader(train_dataset, batch_size=batch_size, shuffle=True, num_workers=2)\n",
        "test_loader = DataLoader(test_dataset, batch_size=batch_size, shuffle=False, num_workers=2)\n",
        "\n",
        "# Step 4: Define the Simplified CNN Classifier\n",
        "class SimpleCNN(nn.Module):\n",
        "    def __init__(self):\n",
        "        super(SimpleCNN, self).__init__()\n",
        "        self.features = nn.Sequential(\n",
        "            nn.Conv2d(3, 32, kernel_size=3, padding=1),\n",
        "            nn.ReLU(),\n",
        "            nn.MaxPool2d(kernel_size=2, stride=2),\n",
        "\n",
        "            nn.Conv2d(32, 64, kernel_size=3, padding=1),\n",
        "            nn.ReLU(),\n",
        "            nn.MaxPool2d(kernel_size=2, stride=2)\n",
        "        )\n",
        "        self.classifier = nn.Sequential(\n",
        "            nn.Flatten(),\n",
        "            nn.Linear(64 * 8 * 8, 128),\n",
        "            nn.ReLU(),\n",
        "            nn.Linear(128, 10)\n",
        "        )\n",
        "\n",
        "    def forward(self, x):\n",
        "        x = self.features(x)\n",
        "        x = self.classifier(x)\n",
        "        return x\n",
        "\n",
        "# Step 5: Initialize model, loss function, and optimizer\n",
        "device = torch.device('cuda' if torch.cuda.is_available() else 'cpu')\n",
        "model = SimpleCNN().to(device)\n",
        "criterion = nn.CrossEntropyLoss()\n",
        "optimizer = optim.Adam(model.parameters(), lr=0.001)\n",
        "\n",
        "# Step 6: Train the Classifier\n",
        "epochs = 25\n",
        "for epoch in range(epochs):\n",
        "    model.train()\n",
        "    train_loss = 0.0\n",
        "    correct = 0\n",
        "    total = 0\n",
        "    for images, labels in train_loader:\n",
        "        images, labels = images.to(device), labels.to(device)\n",
        "        optimizer.zero_grad()\n",
        "        outputs = model(images)\n",
        "        loss = criterion(outputs, labels)\n",
        "        loss.backward()\n",
        "        optimizer.step()\n",
        "        train_loss += loss.item()\n",
        "\n",
        "        _, predicted = torch.max(outputs.data, 1)\n",
        "        total += labels.size(0)\n",
        "        correct += (predicted == labels).sum().item()\n",
        "\n",
        "    accuracy = 100 * correct / total\n",
        "    print(f\"Epoch [{epoch+1}/{epochs}], Loss: {train_loss/len(train_loader):.4f}, Accuracy: {accuracy:.2f}%\")\n",
        "\n",
        "# Step 7: Evaluate the Model on Test Data\n",
        "model.eval()\n",
        "correct = 0\n",
        "total = 0\n",
        "with torch.no_grad():\n",
        "    for images, labels in test_loader:\n",
        "        images, labels = images.to(device), labels.to(device)\n",
        "        outputs = model(images)\n",
        "        _, predicted = torch.max(outputs.data, 1)\n",
        "        total += labels.size(0)\n",
        "        correct += (predicted == labels).sum().item()\n",
        "\n",
        "test_accuracy = 100 * correct / total\n",
        "print(f\"Test Accuracy: {test_accuracy:.2f}%\")\n"
      ]
    }
  ]
}